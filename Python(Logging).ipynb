{
 "cells": [
  {
   "cell_type": "markdown",
   "id": "e74fda78",
   "metadata": {},
   "source": [
    "# 1. What is the role of the 'else' block in a try-except statement? Provide an example scenario where it would be useful."
   ]
  },
  {
   "cell_type": "markdown",
   "id": "bc57c289",
   "metadata": {},
   "source": [
    "The 'else' block in a try-except statement is used to define a code block that should be executed if no exception is raised within the 'try' block. It is optional and provides a way to specify code that should run only if the 'try' block completes without any exceptions being raised.\n",
    "\n",
    "'ZeroDivisionError' exception (as seen in the second example), the code within the 'except' block is executed, handling the exception. However, if no exception is raised (as seen in the first example), the code within the 'else' block is executed, which displays the result of the division.\n",
    "\n",
    "The 'else' block is useful for separating the logic that handles exceptions from the logic that executes when no exceptions occur, leading to cleaner and more organized code.\n",
    "\n",
    "\n",
    "\n",
    "\n",
    "\n",
    "\n",
    "\n"
   ]
  },
  {
   "cell_type": "code",
   "execution_count": null,
   "id": "0b8b6518",
   "metadata": {},
   "outputs": [],
   "source": [
    "#Here's the basic structure of a try-except-else statement:\n",
    "try:\n",
    "    # Code that might raise an exception\n",
    "except ExceptionType:\n",
    "    # Code to handle the exception\n",
    "else:\n",
    "    # Code to be executed if no exception is raised in the try block\n",
    "\n",
    "#Here's an example scenario where the 'else' block would be useful:\n",
    "\n",
    "def divide(a, b):\n",
    "    try:\n",
    "        result = a / b\n",
    "    except ZeroDivisionError:\n",
    "        print(\"Error: Division by zero\")\n",
    "    else:\n",
    "        print(\"Result:\", result)\n",
    "\n",
    "#Example 1: Valid division\n",
    "divide(10, 2)  # Output: Result: 5.0\n",
    "\n",
    "#Example 2: Division by zero\n",
    "divide(10, 0)  # Output: Error: Division by zero"
   ]
  },
  {
   "cell_type": "markdown",
   "id": "e5dc680e",
   "metadata": {},
   "source": [
    "# 2. Can a try-except block be nested inside another try-except block? Explain with an example."
   ]
  },
  {
   "cell_type": "markdown",
   "id": "7207befd",
   "metadata": {},
   "source": [
    "Yes, a try-except block can definitely be nested inside another try-except block. This is known as nested exception handling, and it allows you to handle different levels of exceptions separately. Each nested try-except block can have its own specific exception handling logic.\n",
    "\n",
    "\n",
    "\n",
    "\n",
    "\n",
    "The outer try-except block handles the 'ZeroDivisionError' that might occur during the division operation.\n",
    "The inner try-except block handles the 'ValueError' that might occur when trying to calculate the square root of a negative number.\n",
    "\n",
    "By using nested try-except blocks, you can isolate different types of exceptions and apply specific handling logic for each one, leading to more precise error handling in complex scenarios.\n",
    "\n",
    "\n",
    "\n",
    "\n",
    "\n"
   ]
  },
  {
   "cell_type": "code",
   "execution_count": null,
   "id": "2f45b740",
   "metadata": {},
   "outputs": [],
   "source": [
    "#Here's an example to illustrate nested try-except blocks:\n",
    "def divide_and_process(a, b):\n",
    "    try:\n",
    "        result = a / b\n",
    "        print(\"Division Result:\", result)\n",
    "\n",
    "        try:\n",
    "            square_root = result ** 0.5\n",
    "            print(\"Square Root of Result:\", square_root)\n",
    "        except ValueError:\n",
    "            print(\"Error: Cannot calculate square root of a negative number\")\n",
    "\n",
    "    except ZeroDivisionError:\n",
    "        print(\"Error: Division by zero\")\n",
    "\n",
    "#Example 1: Valid division and square root\n",
    "divide_and_process(9, 3)\n",
    "#Output:\n",
    "#Division Result: 3.0\n",
    "#Square Root of Result: 1.7320508075688772\n",
    "\n",
    "#Example 2: Division by zero\n",
    "divide_and_process(10, 0)\n",
    "#Output:\n",
    "#Error: Division by zero\n",
    "\n",
    "'''\n",
    "In this example, the divide_and_process function performs a division operation and then attempts to calculate the square\n",
    "root of the result. There are two levels of exception handling:\n",
    "\n",
    "'''"
   ]
  },
  {
   "cell_type": "markdown",
   "id": "4ed72687",
   "metadata": {},
   "source": [
    "# 3. How can you create a custom exception class in Python? Provide an example that demonstrates its usage."
   ]
  },
  {
   "cell_type": "markdown",
   "id": "2042eaf1",
   "metadata": {},
   "source": [
    "In the try block, we call the divide function with the arguments 10 and 0, which would trigger the custom exception. The except block catches the CustomError exception, and we can access the custom error message using the e.message attribute. If no exception is raised, the else block prints the result of the division.\n",
    "\n",
    "We can create a custom exception class in Python by defining a new class that inherits from the built-in Exception class or any of its subclasses. This allows we to create custom exception types tailored to your specific use cases.\n",
    "\n",
    "The divide function takes two arguments and raises a CustomError exception if the second argument (b) is zero. Otherwise, it performs the division operation.\n",
    "\n",
    "Creating custom exception classes is helpful when you want to differentiate between different types of errors in your code and provide more meaningful error messages.\n",
    "\n",
    "\n",
    "\n",
    "\n",
    "\n",
    "\n"
   ]
  },
  {
   "cell_type": "code",
   "execution_count": 7,
   "id": "a929dd88",
   "metadata": {},
   "outputs": [
    {
     "name": "stdout",
     "output_type": "stream",
     "text": [
      "Custom Error: Division by zero is not allowed\n"
     ]
    },
    {
     "data": {
      "text/plain": [
       "\"\\nIn this example, we've created a custom exception class named CustomError, which inherits from the built-in Exception class.\\nThe __init__ method is overridden to allow us to provide a custom error message.\\n\\n\""
      ]
     },
     "execution_count": 7,
     "metadata": {},
     "output_type": "execute_result"
    }
   ],
   "source": [
    "\n",
    "#Here's an example of how to create a custom exception class and use it:\n",
    "\n",
    "class CustomError(Exception):\n",
    "    def __init__(self, message):\n",
    "        self.message = message\n",
    "        super().__init__(self.message)\n",
    "\n",
    "def divide(a, b):\n",
    "    if b == 0:\n",
    "        raise CustomError(\"Division by zero is not allowed\")\n",
    "    return a / b\n",
    "\n",
    "try:\n",
    "    result = divide(10, 0)\n",
    "except CustomError as e:\n",
    "    print(\"Custom Error:\", e.message)\n",
    "else:\n",
    "    print(\"Result:\", result)\n",
    "\n",
    "'''\n",
    "In this example, we've created a custom exception class named CustomError, which inherits from the built-in Exception class.\n",
    "The __init__ method is overridden to allow us to provide a custom error message.\n",
    "\n",
    "'''\n"
   ]
  },
  {
   "cell_type": "markdown",
   "id": "704aede4",
   "metadata": {},
   "source": [
    "# 4. What are some common exceptions that are built-in to Python?"
   ]
  },
  {
   "cell_type": "markdown",
   "id": "07cbfda2",
   "metadata": {},
   "source": [
    "Python provides a wide range of built-in exceptions to handle various error situations that might occur during program execution. Here are some common built-in exceptions in Python:\n",
    "\n",
    "SyntaxError: Raised when there's a syntax error in your code.\n",
    "\n",
    "IndentationError: Raised when there's an indentation-related syntax error.\n",
    "    \n",
    "NameError: Raised when a local or global name is not found.\n",
    "    \n",
    "TypeError: Raised when an operation or function is applied to an object of inappropriate type.\n",
    "    \n",
    "ValueError: Raised when a function receives an argument of the correct type but an inappropriate value.\n",
    "\n",
    "KeyError: Raised when a dictionary key is not found.\n",
    "\n",
    "IndexError: Raised when a sequence (list, string, tuple, etc.) index is out of range.\n",
    "\n",
    "FileNotFoundError: Raised when an attempt to open a file fails because the file does not exist.\n",
    "\n",
    "ZeroDivisionError: Raised when division or modulo by zero occurs.\n",
    "\n",
    "AttributeError: Raised when an attribute reference or assignment fails.\n",
    "\n",
    "ImportError: Raised when an import statement cannot find the module or name being imported.\n",
    "\n",
    "RuntimeError: A generic error raised when an error does not fall into any of the above categories.\n",
    "\n",
    "AssertionError: Raised when an assert statement fails.\n",
    "\n",
    "KeyboardInterrupt: Raised when the user interrupts the execution (usually by pressing Ctrl+C).\n",
    "\n",
    "OverflowError: Raised when an arithmetic operation exceeds the limits of the data type.\n",
    "\n",
    "MemoryError: Raised when an operation runs out of memory.\n",
    "\n",
    "\n",
    "\n",
    "\n",
    "\n",
    "\n",
    "\n",
    "\n",
    "\n",
    "\n"
   ]
  },
  {
   "cell_type": "markdown",
   "id": "2cfad7fe",
   "metadata": {},
   "source": [
    "# 5. What is logging in Python, and why is it important in software development?"
   ]
  },
  {
   "cell_type": "markdown",
   "id": "45a2cd72",
   "metadata": {},
   "source": [
    "Logging in Python refers to the practice of recording and storing information about the events, actions, and state of a program during its execution. The Python standard library provides a built-in module called logging that allows developers to easily incorporate logging into their applications.\n",
    "\n",
    "Logging is important in software development for several reasons:\n",
    "\n",
    "Debugging and Troubleshooting: Logging helps developers identify and understand issues in the code by providing a detailed history of events leading up to an error. When an unexpected behavior or error occurs, logs can provide insights into what went wrong and why.\n",
    "\n",
    "Monitoring and Analysis: In production environments, logs are crucial for monitoring the health and performance of applications. Developers and system administrators can analyze logs to identify patterns, track usage, and detect performance bottlenecks.\n",
    "\n",
    "Maintenance and Refactoring: Logs can aid in maintaining and updating software. When making changes to the codebase, developers can refer to existing logs to ensure that new modifications do not introduce regressions or unexpected behaviors.\n",
    "\n",
    "Auditing and Compliance: In certain applications, maintaining a record of events is necessary for auditing and compliance purposes. Logs can provide evidence of user actions, security events, and other critical activities.\n",
    "\n",
    "Collaboration: Logs facilitate collaboration among development teams. Developers can share log information to troubleshoot issues and communicate effectively about the behavior of the application.\n",
    "\n",
    "Understanding User Behavior: By analyzing user interactions recorded in logs, developers can gain insights into how users are using the application. This information can guide feature development and user experience improvements.\n",
    "\n",
    "The Python logging module offers various log levels (such as DEBUG, INFO, WARNING, ERROR, and CRITICAL) that allow developers to control the granularity of log messages. Different log levels can be used for different scenarios, helping to filter and prioritize the information presented in logs.\n",
    "\n"
   ]
  },
  {
   "cell_type": "markdown",
   "id": "82d60f1b",
   "metadata": {},
   "source": [
    "# 6. Explain the purpose of log levels in Python logging and provide examples of when each log level would be appropriate."
   ]
  },
  {
   "cell_type": "code",
   "execution_count": null,
   "id": "1b41c4d6",
   "metadata": {},
   "outputs": [],
   "source": [
    "Log levels in Python logging are used to categorize log messages based on their severity or importance. The logging module provides several predefined log levels, each serving a specific purpose. These log levels help developers control which messages are displayed and recorded based on the desired level of detail and the context of the application. Here are the common log levels along with examples of when each is appropriate:\n",
    "\n",
    "DEBUG: This is the lowest level of logging and is used for detailed debugging information. It's typically used during development to provide insights into the internal workings of the application.\n",
    "\n"
   ]
  },
  {
   "cell_type": "code",
   "execution_count": null,
   "id": "9ab5ae69",
   "metadata": {},
   "outputs": [],
   "source": [
    "import logging\n",
    "\n",
    "logging.basicConfig(level=logging.DEBUG)\n",
    "logging.debug(\"This is a debug message\")\n",
    "INFO: This level is used to convey informational messages that can help in understanding the application's progress and state. It's often used to record major application events.\n",
    "\n",
    "import logging\n",
    "\n",
    "logging.basicConfig(level=logging.INFO)\n",
    "logging.info(\"Application started\")\n",
    "WARNING: Used for warning messages that don't necessarily indicate an error but might require attention. For example, a deprecated function might trigger a warning.\n",
    "\n",
    "import logging\n",
    "\n",
    "logging.basicConfig(level=logging.WARNING)\n",
    "logging.warning(\"Resource is running low\")\n",
    "ERROR: Indicates an error that prevented a function or operation from completing successfully. These messages are used to capture actual errors in the code.\n",
    "\n",
    "import logging\n",
    "\n",
    "logging.basicConfig(level=logging.ERROR)\n",
    "try:\n",
    "    result = 10 / 0"
   ]
  },
  {
   "cell_type": "markdown",
   "id": "67ed35f3",
   "metadata": {},
   "source": [
    "# 7. What are log formatters in Python logging, and how can you customise the log message format using formatters?"
   ]
  },
  {
   "cell_type": "markdown",
   "id": "123e27ae",
   "metadata": {},
   "source": [
    "Log formatters in Python logging are used to control the format in which log messages are presented. The format of a log message includes information like the timestamp, log level, the actual log message, and possibly additional contextual information. The logging module provides the ability to customize the appearance of log messages using formatters.\n",
    "\n",
    "A log formatter is a configuration object that defines the structure of log messages. It allows you to specify placeholders that represent different components of the log message, such as the timestamp, log level, message content, and more. The logging module provides a Formatter class that can be used to create custom log message formats.\n",
    "\n",
    "\n",
    "\n",
    "By customizing the log message format, you can tailor the appearance of log messages to suit your application's needs, making it easier to read, analyze, and interpret the log data.\n",
    "\n",
    "\n",
    "\n",
    "\n",
    "\n"
   ]
  },
  {
   "cell_type": "code",
   "execution_count": null,
   "id": "d143fd46",
   "metadata": {},
   "outputs": [],
   "source": [
    "#Here's how you can customize log message formats using formatters:\n",
    "import logging\n",
    "\n",
    "# Create a custom formatter\n",
    "formatter = logging.Formatter('%(asctime)s - %(levelname)s - %(message)s')\n",
    "\n",
    "# Configure logging with the custom formatter\n",
    "logging.basicConfig(level=logging.INFO, format=formatter)\n",
    "\n",
    "# Example usage\n",
    "logging.info(\"This is an informational message\")\n",
    "logging.warning(\"This is a warning message\")\n",
    "\n",
    "'''\n",
    "In this example, the logging.Formatter class is used to create a custom formatter named formatter. The format \n",
    "string '%(asctime)s - %(levelname)s - %(message)s' specifies how the log message should be structured. Here's what each \n",
    "placeholder represents:\n",
    "\n",
    "'''\n",
    "\n",
    "%(asctime)s: The timestamp of the log message.\n",
    "%(levelname)s: The log level (e.g., INFO, WARNING) of the message.\n",
    "%(message)s: The actual content of the log message"
   ]
  },
  {
   "cell_type": "markdown",
   "id": "1c2d56ec",
   "metadata": {},
   "source": [
    "# 8. How can you set up logging to capture log messages from multiple modules or classes in a Python application?"
   ]
  },
  {
   "cell_type": "markdown",
   "id": "62b2a5bf",
   "metadata": {},
   "source": [
    "Setting up logging to capture log messages from multiple modules or classes in a Python application involves configuring logging at a central location and then using the configured logger in each module or class. This ensures that all log messages from different parts of the application are collected and displayed according to the desired configuration. Here's how you can achieve this:\n",
    "\n",
    "Configure Logging Globally:\n",
    "\n",
    "In a central location (such as your main script or configuration file), set up the logging configuration using basicConfig or dictConfig from the logging module. This configuration will be applied globally to all loggers used throughout the application.\n"
   ]
  },
  {
   "cell_type": "code",
   "execution_count": null,
   "id": "d2fab224",
   "metadata": {},
   "outputs": [],
   "source": [
    "import logging\n",
    "\n",
    "logging.basicConfig(level=logging.DEBUG,\n",
    "                    format='%(asctime)s - %(name)s - %(levelname)s - %(message)s')\n",
    "#Use Loggers in Modules/Classes:\n",
    "\n",
    "#In each module or class where you want to capture log messages, create a logger instance using logging.getLogger(__name__).\n",
    "#This will associate the logger with the module or class name. Using the logger instance, you can log messages at various \n",
    "#log levels.\n",
    "\n",
    "import logging\n",
    "\n",
    "logger = logging.getLogger(__name__)\n",
    "\n",
    "class MyClass:\n",
    "    def __init__(self):\n",
    "        logger.info(\"Initializing MyClass instance\")\n",
    "\n",
    "    def do_something(self):\n",
    "        logger.debug(\"Doing something\")\n",
    "\n",
    "def some_function():\n",
    "    logger.warning(\"This is a warning from some_function\")\n",
    "\n",
    "if __name__ == \"__main__\":\n",
    "    logger.info(\"Starting the application\")\n",
    "    obj = MyClass()\n",
    "    obj.do_something()\n",
    "    some_function()"
   ]
  },
  {
   "cell_type": "markdown",
   "id": "5d1c6612",
   "metadata": {},
   "source": [
    "Run the Application:\n",
    "\n",
    "When you run your application, the log messages from different modules or classes will be collected and displayed according to the configuration set up in the central location.\n",
    "\n",
    "By using the same logger instance (associated with the module or class name) across different parts of the application, you maintain consistency in log message formatting and configuration. Additionally, you can control the log level and format for individual modules or classes by adjusting the logging configuration at a central location.\n",
    "\n",
    "This approach simplifies the management of log messages across the application and allows you to effectively monitor and analyze the behavior of different components.\n"
   ]
  },
  {
   "cell_type": "markdown",
   "id": "bdad7ba2",
   "metadata": {},
   "source": [
    "# 9. What is the difference between the logging and print statements in Python? When should you use logging over print statements in a real-world application?"
   ]
  },
  {
   "cell_type": "markdown",
   "id": "d047d023",
   "metadata": {},
   "source": [
    "Both logging and print statements in Python are used to output information during program execution, but they serve different purposes and have distinct advantages in different scenarios.\n",
    "\n",
    "Differences between logging and print statements:\n",
    "\n",
    "Output Destination:\n",
    "\n",
    "print: Prints messages to the standard output (usually the console).\n",
    "logging: Logs messages to various outputs, such as files, the console, or external services.\n",
    "Information Level:\n",
    "\n",
    "print: Primarily used for debugging and development purposes.\n",
    "logging: Designed for capturing information during both development and production stages. It provides different log levels (DEBUG, INFO, WARNING, ERROR, CRITICAL) for different types of messages.\n",
    "Flexibility and Customization:\n",
    "\n",
    "print: Limited customization of output format. Prints messages as-is.\n",
    "logging: Highly customizable log message formatting, log levels, and the ability to log to different outputs. This makes it more suitable for professional applications.\n",
    "Granularity:\n",
    "\n",
    "print: Suitable for simple, ad hoc debugging and observing program flow.\n",
    "logging: Provides finer control over the level of detail captured in log messages, making it suitable for analyzing complex scenarios and identifying issues.\n",
    "When to use logging over print statements in a real-world application:\n",
    "\n",
    "Maintainability: Logging provides a structured way to capture information, warnings, and errors. This makes it easier to maintain and update your codebase, as you can quickly identify issues and track changes.\n",
    "\n",
    "Debugging and Troubleshooting: Logging allows you to record specific information related to events, errors, and behaviors that occur in your application. This makes it more effective for diagnosing problems.\n",
    "\n",
    "Differentiating Levels of Information: Logging offers different log levels, allowing you to capture detailed debug information during development and essential error information in production.\n",
    "\n",
    "Production Environment: In production environments, you don't want to clutter the user interface with debugging messages. Logging allows you to capture necessary information for debugging without affecting the end-user experience.\n",
    "\n",
    "Flexibility: Logging enables you to send log messages to various outputs, such as log files or external services, ensuring that critical information is stored securely and can be analyzed later.\n",
    "\n",
    "Collaboration: When multiple developers are working on a project, logging helps in understanding the behavior of different components and resolving integration issues.\n",
    "\n",
    "\n",
    "\n",
    "\n",
    "\n",
    "\n"
   ]
  },
  {
   "cell_type": "markdown",
   "id": "9fefd765",
   "metadata": {},
   "source": [
    "# 10. Write a Python program that logs a message to a file named \"app.log\" with the following requirements:\n",
    "● The log message should be \"Hello, World!\"\n",
    "\n",
    "● The log level should be set to \"INFO.\"\n",
    "\n",
    "● The log file should append new log entries without overwriting previous ones."
   ]
  },
  {
   "cell_type": "markdown",
   "id": "84761cc9",
   "metadata": {},
   "source": [
    "Sure, here's a simple Python program that uses the logging module to log a message to a file named \"app.log\" with the specified requirements:\n",
    "\n",
    "We import the logging module.\n",
    "We use the basicConfig function to configure the logging. We provide the filename parameter to specify the log file name, level=logging.INFO to set the log level to INFO, and format to define the format of the log message.\n",
    "We use logging.info to log the message \"Hello, World!\" with the specified log level.\n",
    "When you run this program, it will create a file named \"app.log\" (if it doesn't exist) and append the log entry to it each time the program is executed. The log entry will have a timestamp, log level, and the message \"Hello, World!\" in the format specified in the format parameter of basicConfig.\n",
    "\n",
    "\n",
    "\n",
    "\n",
    "\n"
   ]
  },
  {
   "cell_type": "code",
   "execution_count": 11,
   "id": "415fc054",
   "metadata": {},
   "outputs": [],
   "source": [
    "import logging\n",
    "\n",
    "# Configure logging to write to a file named \"app.log\"\n",
    "logging.basicConfig(filename=\"app.log\", level=logging.INFO, format='%(asctime)s - %(levelname)s - %(message)s')\n",
    "\n",
    "# Log the message\n",
    "logging.info(\"Hello, World!\")\n"
   ]
  },
  {
   "cell_type": "markdown",
   "id": "a34c7352",
   "metadata": {},
   "source": [
    "# 11. Create a Python program that logs an error message to the console and a file named \"errors.log\" if an exception occurs during the program's execution. The error message should include the exception type and a timestamp."
   ]
  },
  {
   "cell_type": "markdown",
   "id": "54e831db",
   "metadata": {},
   "source": [
    "A Python program that demonstrates how to log an error message to both the console and a file named \"errors.log\" if an exception occurs during the program's execution:\n",
    "\n",
    "In this program:\n",
    "\n",
    "We define a main function that contains code that might raise an exception. In this case, we intentionally cause a ZeroDivisionError by attempting to divide by zero.\n",
    "Inside the except block, we log the exception using logging.exception. This function logs the exception along with its traceback and adds a timestamp.\n",
    "In the if __name__ == \"__main__\": block, we configure logging to log errors and above (level ERROR) to both the console and the \"errors.log\" file. We use logging.StreamHandler() to log to the console and logging.FileHandler(\"errors.log\") to log to the file.\n",
    "Finally, we call the main function to execute the code and trigger the exception.\n",
    "When you run this program and an exception occurs, you'll see the error message along with the exception type, timestamp, and traceback both in the console output and in the \"errors.log\" file.\n",
    "\n",
    "\n",
    "\n",
    "\n",
    "\n",
    "\n",
    "\n"
   ]
  },
  {
   "cell_type": "code",
   "execution_count": null,
   "id": "58570524",
   "metadata": {},
   "outputs": [],
   "source": [
    "import logging\n",
    "\n",
    "def main():\n",
    "    try:\n",
    "        # Code that might raise an exception\n",
    "        result = 10 / 0  # This will raise a ZeroDivisionError\n",
    "    except Exception as e:\n",
    "        # Log the exception with timestamp to the console and \"errors.log\" file\n",
    "        error_msg = f\"Exception: {type(e).__name__} - {e}\"\n",
    "        logging.exception(error_msg)\n",
    "\n",
    "if __name__ == \"__main__\":\n",
    "    # Configure logging to log exceptions to both console and \"errors.log\" file\n",
    "    logging.basicConfig(level=logging.ERROR,\n",
    "                        format='%(asctime)s - %(levelname)s - %(message)s',\n",
    "                        handlers=[logging.StreamHandler(), logging.FileHandler(\"errors.log\")])\n",
    "\n",
    "    # Call the main function\n",
    "    main()"
   ]
  }
 ],
 "metadata": {
  "kernelspec": {
   "display_name": "Python 3 (ipykernel)",
   "language": "python",
   "name": "python3"
  },
  "language_info": {
   "codemirror_mode": {
    "name": "ipython",
    "version": 3
   },
   "file_extension": ".py",
   "mimetype": "text/x-python",
   "name": "python",
   "nbconvert_exporter": "python",
   "pygments_lexer": "ipython3",
   "version": "3.9.7"
  }
 },
 "nbformat": 4,
 "nbformat_minor": 5
}
